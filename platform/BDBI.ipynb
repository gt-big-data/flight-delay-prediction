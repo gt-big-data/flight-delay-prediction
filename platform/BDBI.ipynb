{
  "cells": [
    {
      "cell_type": "code",
      "execution_count": 31,
      "metadata": {
        "id": "V3C6HI66TEEH"
      },
      "outputs": [],
      "source": [
        "import pandas as pd\n",
        "import matplotlib.pyplot as plt\n",
        "\n",
        "\n",
        "\n",
        "df = pd.read_csv('2018.csv')\n",
        "\n",
        "df.dropna(\n",
        "    axis = 0,\n",
        "    how='all',\n",
        "    subset=None,\n",
        "    inplace=True\n",
        ")\n",
        "\n",
        "df = df.drop_duplicates()\n"
      ]
    },
    {
      "cell_type": "code",
      "source": [
        "# dropping all cancelled flights\n",
        "df = df[(df['CANCELLED'] == 0)]\n",
        "filtered_df = df\n",
        "df.tail()"
      ],
      "metadata": {
        "id": "av4ZJ7EMKmve",
        "colab": {
          "base_uri": "https://localhost:8080/",
          "height": 404
        },
        "outputId": "48c11d6d-ad30-4474-e2dd-1f4037bfbd40"
      },
      "execution_count": 32,
      "outputs": [
        {
          "output_type": "execute_result",
          "data": {
            "text/plain": [
              "            FL_DATE OP_CARRIER  OP_CARRIER_FL_NUM ORIGIN DEST  CRS_DEP_TIME  \\\n",
              "7213441  2018-12-31         AA               1815    DCA  CLT          1534   \n",
              "7213442  2018-12-31         AA               1816    CLT  DFW          1751   \n",
              "7213443  2018-12-31         AA               1817    CLT  MEM          2015   \n",
              "7213444  2018-12-31         AA               1818    CLT  RDU          1300   \n",
              "7213445  2018-12-31         AA               1818    RDU  CLT          1435   \n",
              "\n",
              "         DEP_TIME  DEP_DELAY  TAXI_OUT  WHEELS_OFF  ...  CRS_ELAPSED_TIME  \\\n",
              "7213441    1530.0       -4.0      20.0      1550.0  ...             100.0   \n",
              "7213442    1757.0        6.0      18.0      1815.0  ...             181.0   \n",
              "7213443    2010.0       -5.0      36.0      2046.0  ...             112.0   \n",
              "7213444    1323.0       23.0      11.0      1334.0  ...              50.0   \n",
              "7213445    1443.0        8.0       8.0      1451.0  ...              71.0   \n",
              "\n",
              "         ACTUAL_ELAPSED_TIME  AIR_TIME  DISTANCE  CARRIER_DELAY  \\\n",
              "7213441                 99.0      72.0     331.0            NaN   \n",
              "7213442                176.0     148.0     936.0            NaN   \n",
              "7213443                128.0      88.0     511.0            NaN   \n",
              "7213444                 41.0      26.0     130.0            NaN   \n",
              "7213445                 59.0      44.0     130.0            NaN   \n",
              "\n",
              "         WEATHER_DELAY NAS_DELAY  SECURITY_DELAY  LATE_AIRCRAFT_DELAY  \\\n",
              "7213441            NaN       NaN             NaN                  NaN   \n",
              "7213442            NaN       NaN             NaN                  NaN   \n",
              "7213443            NaN       NaN             NaN                  NaN   \n",
              "7213444            NaN       NaN             NaN                  NaN   \n",
              "7213445            NaN       NaN             NaN                  NaN   \n",
              "\n",
              "         Unnamed: 27  \n",
              "7213441          NaN  \n",
              "7213442          NaN  \n",
              "7213443          NaN  \n",
              "7213444          NaN  \n",
              "7213445          NaN  \n",
              "\n",
              "[5 rows x 28 columns]"
            ],
            "text/html": [
              "\n",
              "  <div id=\"df-abb09965-5d5b-45e7-b38c-506f9437e0b2\">\n",
              "    <div class=\"colab-df-container\">\n",
              "      <div>\n",
              "<style scoped>\n",
              "    .dataframe tbody tr th:only-of-type {\n",
              "        vertical-align: middle;\n",
              "    }\n",
              "\n",
              "    .dataframe tbody tr th {\n",
              "        vertical-align: top;\n",
              "    }\n",
              "\n",
              "    .dataframe thead th {\n",
              "        text-align: right;\n",
              "    }\n",
              "</style>\n",
              "<table border=\"1\" class=\"dataframe\">\n",
              "  <thead>\n",
              "    <tr style=\"text-align: right;\">\n",
              "      <th></th>\n",
              "      <th>FL_DATE</th>\n",
              "      <th>OP_CARRIER</th>\n",
              "      <th>OP_CARRIER_FL_NUM</th>\n",
              "      <th>ORIGIN</th>\n",
              "      <th>DEST</th>\n",
              "      <th>CRS_DEP_TIME</th>\n",
              "      <th>DEP_TIME</th>\n",
              "      <th>DEP_DELAY</th>\n",
              "      <th>TAXI_OUT</th>\n",
              "      <th>WHEELS_OFF</th>\n",
              "      <th>...</th>\n",
              "      <th>CRS_ELAPSED_TIME</th>\n",
              "      <th>ACTUAL_ELAPSED_TIME</th>\n",
              "      <th>AIR_TIME</th>\n",
              "      <th>DISTANCE</th>\n",
              "      <th>CARRIER_DELAY</th>\n",
              "      <th>WEATHER_DELAY</th>\n",
              "      <th>NAS_DELAY</th>\n",
              "      <th>SECURITY_DELAY</th>\n",
              "      <th>LATE_AIRCRAFT_DELAY</th>\n",
              "      <th>Unnamed: 27</th>\n",
              "    </tr>\n",
              "  </thead>\n",
              "  <tbody>\n",
              "    <tr>\n",
              "      <th>7213441</th>\n",
              "      <td>2018-12-31</td>\n",
              "      <td>AA</td>\n",
              "      <td>1815</td>\n",
              "      <td>DCA</td>\n",
              "      <td>CLT</td>\n",
              "      <td>1534</td>\n",
              "      <td>1530.0</td>\n",
              "      <td>-4.0</td>\n",
              "      <td>20.0</td>\n",
              "      <td>1550.0</td>\n",
              "      <td>...</td>\n",
              "      <td>100.0</td>\n",
              "      <td>99.0</td>\n",
              "      <td>72.0</td>\n",
              "      <td>331.0</td>\n",
              "      <td>NaN</td>\n",
              "      <td>NaN</td>\n",
              "      <td>NaN</td>\n",
              "      <td>NaN</td>\n",
              "      <td>NaN</td>\n",
              "      <td>NaN</td>\n",
              "    </tr>\n",
              "    <tr>\n",
              "      <th>7213442</th>\n",
              "      <td>2018-12-31</td>\n",
              "      <td>AA</td>\n",
              "      <td>1816</td>\n",
              "      <td>CLT</td>\n",
              "      <td>DFW</td>\n",
              "      <td>1751</td>\n",
              "      <td>1757.0</td>\n",
              "      <td>6.0</td>\n",
              "      <td>18.0</td>\n",
              "      <td>1815.0</td>\n",
              "      <td>...</td>\n",
              "      <td>181.0</td>\n",
              "      <td>176.0</td>\n",
              "      <td>148.0</td>\n",
              "      <td>936.0</td>\n",
              "      <td>NaN</td>\n",
              "      <td>NaN</td>\n",
              "      <td>NaN</td>\n",
              "      <td>NaN</td>\n",
              "      <td>NaN</td>\n",
              "      <td>NaN</td>\n",
              "    </tr>\n",
              "    <tr>\n",
              "      <th>7213443</th>\n",
              "      <td>2018-12-31</td>\n",
              "      <td>AA</td>\n",
              "      <td>1817</td>\n",
              "      <td>CLT</td>\n",
              "      <td>MEM</td>\n",
              "      <td>2015</td>\n",
              "      <td>2010.0</td>\n",
              "      <td>-5.0</td>\n",
              "      <td>36.0</td>\n",
              "      <td>2046.0</td>\n",
              "      <td>...</td>\n",
              "      <td>112.0</td>\n",
              "      <td>128.0</td>\n",
              "      <td>88.0</td>\n",
              "      <td>511.0</td>\n",
              "      <td>NaN</td>\n",
              "      <td>NaN</td>\n",
              "      <td>NaN</td>\n",
              "      <td>NaN</td>\n",
              "      <td>NaN</td>\n",
              "      <td>NaN</td>\n",
              "    </tr>\n",
              "    <tr>\n",
              "      <th>7213444</th>\n",
              "      <td>2018-12-31</td>\n",
              "      <td>AA</td>\n",
              "      <td>1818</td>\n",
              "      <td>CLT</td>\n",
              "      <td>RDU</td>\n",
              "      <td>1300</td>\n",
              "      <td>1323.0</td>\n",
              "      <td>23.0</td>\n",
              "      <td>11.0</td>\n",
              "      <td>1334.0</td>\n",
              "      <td>...</td>\n",
              "      <td>50.0</td>\n",
              "      <td>41.0</td>\n",
              "      <td>26.0</td>\n",
              "      <td>130.0</td>\n",
              "      <td>NaN</td>\n",
              "      <td>NaN</td>\n",
              "      <td>NaN</td>\n",
              "      <td>NaN</td>\n",
              "      <td>NaN</td>\n",
              "      <td>NaN</td>\n",
              "    </tr>\n",
              "    <tr>\n",
              "      <th>7213445</th>\n",
              "      <td>2018-12-31</td>\n",
              "      <td>AA</td>\n",
              "      <td>1818</td>\n",
              "      <td>RDU</td>\n",
              "      <td>CLT</td>\n",
              "      <td>1435</td>\n",
              "      <td>1443.0</td>\n",
              "      <td>8.0</td>\n",
              "      <td>8.0</td>\n",
              "      <td>1451.0</td>\n",
              "      <td>...</td>\n",
              "      <td>71.0</td>\n",
              "      <td>59.0</td>\n",
              "      <td>44.0</td>\n",
              "      <td>130.0</td>\n",
              "      <td>NaN</td>\n",
              "      <td>NaN</td>\n",
              "      <td>NaN</td>\n",
              "      <td>NaN</td>\n",
              "      <td>NaN</td>\n",
              "      <td>NaN</td>\n",
              "    </tr>\n",
              "  </tbody>\n",
              "</table>\n",
              "<p>5 rows × 28 columns</p>\n",
              "</div>\n",
              "      <button class=\"colab-df-convert\" onclick=\"convertToInteractive('df-abb09965-5d5b-45e7-b38c-506f9437e0b2')\"\n",
              "              title=\"Convert this dataframe to an interactive table.\"\n",
              "              style=\"display:none;\">\n",
              "        \n",
              "  <svg xmlns=\"http://www.w3.org/2000/svg\" height=\"24px\"viewBox=\"0 0 24 24\"\n",
              "       width=\"24px\">\n",
              "    <path d=\"M0 0h24v24H0V0z\" fill=\"none\"/>\n",
              "    <path d=\"M18.56 5.44l.94 2.06.94-2.06 2.06-.94-2.06-.94-.94-2.06-.94 2.06-2.06.94zm-11 1L8.5 8.5l.94-2.06 2.06-.94-2.06-.94L8.5 2.5l-.94 2.06-2.06.94zm10 10l.94 2.06.94-2.06 2.06-.94-2.06-.94-.94-2.06-.94 2.06-2.06.94z\"/><path d=\"M17.41 7.96l-1.37-1.37c-.4-.4-.92-.59-1.43-.59-.52 0-1.04.2-1.43.59L10.3 9.45l-7.72 7.72c-.78.78-.78 2.05 0 2.83L4 21.41c.39.39.9.59 1.41.59.51 0 1.02-.2 1.41-.59l7.78-7.78 2.81-2.81c.8-.78.8-2.07 0-2.86zM5.41 20L4 18.59l7.72-7.72 1.47 1.35L5.41 20z\"/>\n",
              "  </svg>\n",
              "      </button>\n",
              "      \n",
              "  <style>\n",
              "    .colab-df-container {\n",
              "      display:flex;\n",
              "      flex-wrap:wrap;\n",
              "      gap: 12px;\n",
              "    }\n",
              "\n",
              "    .colab-df-convert {\n",
              "      background-color: #E8F0FE;\n",
              "      border: none;\n",
              "      border-radius: 50%;\n",
              "      cursor: pointer;\n",
              "      display: none;\n",
              "      fill: #1967D2;\n",
              "      height: 32px;\n",
              "      padding: 0 0 0 0;\n",
              "      width: 32px;\n",
              "    }\n",
              "\n",
              "    .colab-df-convert:hover {\n",
              "      background-color: #E2EBFA;\n",
              "      box-shadow: 0px 1px 2px rgba(60, 64, 67, 0.3), 0px 1px 3px 1px rgba(60, 64, 67, 0.15);\n",
              "      fill: #174EA6;\n",
              "    }\n",
              "\n",
              "    [theme=dark] .colab-df-convert {\n",
              "      background-color: #3B4455;\n",
              "      fill: #D2E3FC;\n",
              "    }\n",
              "\n",
              "    [theme=dark] .colab-df-convert:hover {\n",
              "      background-color: #434B5C;\n",
              "      box-shadow: 0px 1px 3px 1px rgba(0, 0, 0, 0.15);\n",
              "      filter: drop-shadow(0px 1px 2px rgba(0, 0, 0, 0.3));\n",
              "      fill: #FFFFFF;\n",
              "    }\n",
              "  </style>\n",
              "\n",
              "      <script>\n",
              "        const buttonEl =\n",
              "          document.querySelector('#df-abb09965-5d5b-45e7-b38c-506f9437e0b2 button.colab-df-convert');\n",
              "        buttonEl.style.display =\n",
              "          google.colab.kernel.accessAllowed ? 'block' : 'none';\n",
              "\n",
              "        async function convertToInteractive(key) {\n",
              "          const element = document.querySelector('#df-abb09965-5d5b-45e7-b38c-506f9437e0b2');\n",
              "          const dataTable =\n",
              "            await google.colab.kernel.invokeFunction('convertToInteractive',\n",
              "                                                     [key], {});\n",
              "          if (!dataTable) return;\n",
              "\n",
              "          const docLinkHtml = 'Like what you see? Visit the ' +\n",
              "            '<a target=\"_blank\" href=https://colab.research.google.com/notebooks/data_table.ipynb>data table notebook</a>'\n",
              "            + ' to learn more about interactive tables.';\n",
              "          element.innerHTML = '';\n",
              "          dataTable['output_type'] = 'display_data';\n",
              "          await google.colab.output.renderOutput(dataTable, element);\n",
              "          const docLink = document.createElement('div');\n",
              "          docLink.innerHTML = docLinkHtml;\n",
              "          element.appendChild(docLink);\n",
              "        }\n",
              "      </script>\n",
              "    </div>\n",
              "  </div>\n",
              "  "
            ]
          },
          "metadata": {},
          "execution_count": 32
        }
      ]
    },
    {
      "cell_type": "code",
      "execution_count": 33,
      "metadata": {
        "colab": {
          "base_uri": "https://localhost:8080/"
        },
        "id": "Fo3SlahXmXe7",
        "outputId": "9ac78302-df5f-4526-e71e-55b182023133"
      },
      "outputs": [
        {
          "output_type": "execute_result",
          "data": {
            "text/plain": [
              "array(['UA', 'AS', '9E', 'B6', 'EV', 'F9', 'G4', 'HA', 'MQ', 'NK', 'OH',\n",
              "       'OO', 'VX', 'WN', 'YV', 'YX', 'AA', 'DL'], dtype=object)"
            ]
          },
          "metadata": {},
          "execution_count": 33
        }
      ],
      "source": [
        "# getting unique airlines\n",
        "df.OP_CARRIER.unique()"
      ]
    },
    {
      "cell_type": "code",
      "execution_count": 34,
      "metadata": {
        "id": "-tX9WwaWpYYO"
      },
      "outputs": [],
      "source": [
        "# group by airline\n",
        "airline_groups = df.groupby('OP_CARRIER')"
      ]
    },
    {
      "cell_type": "code",
      "execution_count": 35,
      "metadata": {
        "colab": {
          "base_uri": "https://localhost:8080/"
        },
        "id": "oLQ5viDyrLyY",
        "outputId": "3e8deb11-ecf5-4807-ad52-ad3fbbc076a2"
      },
      "outputs": [
        {
          "output_type": "stream",
          "name": "stdout",
          "text": [
            "0         -0.333839\n",
            "1         -0.400870\n",
            "2         -0.333839\n",
            "3         -0.088060\n",
            "4          0.224750\n",
            "             ...   \n",
            "7213441   -0.311496\n",
            "7213442   -0.088060\n",
            "7213443   -0.333839\n",
            "7213444    0.291780\n",
            "7213445   -0.043373\n",
            "Name: DEP_DELAY, Length: 7096862, dtype: float64\n"
          ]
        }
      ],
      "source": [
        "# calculates departure delay means for each airline\n",
        "departure_means = airline_groups['DEP_DELAY'].mean()\n",
        "normalized_departure = (df['DEP_DELAY'] - df['DEP_DELAY'].mean()) / df['DEP_DELAY'].std()\n",
        "print(normalized_departure)"
      ]
    },
    {
      "cell_type": "code",
      "execution_count": 36,
      "metadata": {
        "colab": {
          "base_uri": "https://localhost:8080/"
        },
        "id": "BZ0HdxIArb8L",
        "outputId": "16104fa1-4518-4ec3-ea72-2ab0a4208a41"
      },
      "outputs": [
        {
          "output_type": "stream",
          "name": "stdout",
          "text": [
            "0         -0.597711\n",
            "1         -0.619021\n",
            "2         -0.384613\n",
            "3         -0.150204\n",
            "4          0.190753\n",
            "             ...   \n",
            "7213441   -0.214134\n",
            "7213442   -0.086275\n",
            "7213443    0.126824\n",
            "7213444    0.190753\n",
            "7213445   -0.192824\n",
            "Name: ARR_DELAY, Length: 7096862, dtype: float64\n"
          ]
        }
      ],
      "source": [
        "# calculates arrival delay means for each airline\n",
        "arrival_means = airline_groups['ARR_DELAY'].mean()\n",
        "normalized_arrival = (df['ARR_DELAY'] - df['ARR_DELAY'].mean()) / df['ARR_DELAY'].std()\n",
        "print(normalized_arrival)"
      ]
    },
    {
      "cell_type": "code",
      "execution_count": 37,
      "metadata": {
        "id": "FLICMNtEvPAm",
        "colab": {
          "base_uri": "https://localhost:8080/"
        },
        "outputId": "082f3b92-03ed-445d-e058-57d8220e84e7"
      },
      "outputs": [
        {
          "output_type": "execute_result",
          "data": {
            "text/plain": [
              "array(['EWR', 'LAS', 'SNA', 'RSW', 'ORD', 'IAH', 'DEN', 'SMF', 'RIC',\n",
              "       'PDX', 'MCO', 'TYS', 'SFO', 'JAC', 'BOS', 'MSY', 'MIA', 'SEA',\n",
              "       'SAT', 'SLC', 'RDU', 'FLL', 'IAD', 'DFW', 'ANC', 'MSP', 'ALB',\n",
              "       'LAX', 'IND', 'SAN', 'BNA', 'BDL', 'ABQ', 'SAV', 'PHX', 'AUS',\n",
              "       'PHL', 'SJC', 'ORF', 'DCA', 'LGA', 'BWI', 'PIT', 'OGG', 'CLE',\n",
              "       'TPA', 'MYR', 'ROC', 'SJU', 'EGE', 'HNL', 'ONT', 'PBI', 'MKE',\n",
              "       'HDN', 'JAX', 'OKC', 'ATL', 'SRQ', 'BZN', 'EUG', 'BOI', 'RNO',\n",
              "       'GEG', 'TUS', 'LIH', 'KOA', 'ITO', 'PSP', 'DTW', 'GUC', 'OMA',\n",
              "       'MTJ', 'CLT', 'CHS', 'MCI', 'BIL', 'CVG', 'CID', 'MEM', 'AVL',\n",
              "       'BUF', 'GUM', 'JFK', 'ADQ', 'BET', 'SCC', 'BRW', 'FAI', 'JNU',\n",
              "       'KTN', 'SIT', 'PSG', 'OME', 'OTZ', 'BUR', 'OAK', 'BLI', 'SBA',\n",
              "       'STL', 'GFK', 'SYR', 'GSP', 'FSD', 'DSM', 'ILM', 'PWM', 'BIS',\n",
              "       'JAN', 'GRB', 'OAJ', 'BTV', 'TLH', 'LAN', 'MSN', 'BMI', 'BGR',\n",
              "       'ABY', 'MOT', 'DHN', 'LEX', 'MDT', 'CMH', 'FSM', 'HSV', 'FAR',\n",
              "       'BQK', 'GSO', 'CHA', 'AGS', 'MOB', 'MGM', 'CWA', 'TRI', 'CSG',\n",
              "       'TVC', 'VLD', 'PIA', 'LFT', 'GNV', 'FAY', 'AEX', 'EWN', 'CAE',\n",
              "       'ELM', 'GRR', 'DAY', 'ATW', 'HRL', 'LGB', 'HOU', 'STX', 'HPN',\n",
              "       'SWF', 'PVD', 'DAB', 'BQN', 'PSE', 'STT', 'ORH', 'BTR', 'ROW',\n",
              "       'BHM', 'MHK', 'SAF', 'MAF', 'LBB', 'COU', 'GRK', 'MLU', 'AVP',\n",
              "       'LIT', 'FNT', 'SHV', 'TUL', 'EVV', 'XNA', 'VPS', 'ICT', 'SDF',\n",
              "       'ELP', 'ECP', 'GPT', 'CRW', 'SBN', 'CAK', 'LCH', 'AMA', 'CRP',\n",
              "       'PNS', 'COS', 'PHF', 'RST', 'HOB', 'CLL', 'SGF', 'MFE', 'MHT',\n",
              "       'FWA', 'LNK', 'EYW', 'ABE', 'MLI', 'ISP', 'TTN', 'SFB', 'PIE',\n",
              "       'IAG', 'BLV', 'TOL', 'HGR', 'ROA', 'RFD', 'PBG', 'OWB', 'HTS',\n",
              "       'PGD', 'USA', 'LCK', 'MFR', 'AZA', 'GRI', 'FCA', 'RAP', 'OGD',\n",
              "       'PVU', 'YNG', 'CPR', 'MRY', 'FAT', 'SCK', 'GJT', 'SMX', 'PPG',\n",
              "       'SJT', 'SUX', 'JLN', 'CMI', 'ABI', 'GCK', 'TYR', 'ALO', 'SPI',\n",
              "       'GGG', 'SPS', 'MQT', 'DBQ', 'SWO', 'TXK', 'AZO', 'CHO', 'ACT',\n",
              "       'LAW', 'BPT', 'LBE', 'ACY', 'HVN', 'MLB', 'ASE', 'LSE', 'FLG',\n",
              "       'RDM', 'STS', 'YUM', 'DRO', 'MEI', 'PIB', 'SGU', 'IFP', 'DAL',\n",
              "       'PSC', 'SBP', 'SCE', 'COD', 'ERI', 'ITH', 'IMT', 'DLH', 'IDA',\n",
              "       'SUN', 'HLN', 'TWF', 'MBS', 'GTF', 'MDW', 'ISN', 'MSO', 'GTR',\n",
              "       'EAU', 'CKB', 'RKS', 'PUB', 'CGI', 'UIN', 'DVL', 'JMS', 'LAR',\n",
              "       'OTH', 'HYS', 'GCC', 'ACV', 'RDD', 'BFL', 'MMH', 'LWS', 'PIH',\n",
              "       'ABR', 'APN', 'ESC', 'PLN', 'BJI', 'BTM', 'CDC', 'CIU', 'EKO',\n",
              "       'HIB', 'BGM', 'RHI', 'BRD', 'INL', 'BRO', 'LRD', 'PSM', 'CMX',\n",
              "       'MKG', 'PAH', 'YAK', 'CDV', 'WRG', 'OGS', 'STC', 'ADK', 'LYH',\n",
              "       'BFF', 'LBF', 'LBL', 'FLO', 'PGV', 'LWB', 'SHD', 'SLN', 'CNY',\n",
              "       'ACK', 'MVY', 'WYS', 'HYA', 'SPN', 'GST', 'AKN', 'DLG', 'BKG',\n",
              "       'VEL', 'HHH', 'PRC', 'EAR', 'DRT', 'CYS', 'ART'], dtype=object)"
            ]
          },
          "metadata": {},
          "execution_count": 37
        }
      ],
      "source": [
        "df.ORIGIN.unique()"
      ]
    },
    {
      "cell_type": "code",
      "execution_count": 38,
      "metadata": {
        "colab": {
          "base_uri": "https://localhost:8080/"
        },
        "id": "iLWZzYrgyIAP",
        "outputId": "c544742c-e86e-4782-83ee-504c1fac584c"
      },
      "outputs": [
        {
          "output_type": "stream",
          "name": "stdout",
          "text": [
            "ORIGIN\n",
            "ABE    11.935737\n",
            "ABI     8.027259\n",
            "ABQ     8.636986\n",
            "ABR     7.742198\n",
            "ABY    15.052261\n",
            "         ...    \n",
            "WYS    -2.485356\n",
            "XNA    10.865010\n",
            "YAK    -8.720506\n",
            "YNG    63.000000\n",
            "YUM    -0.455669\n",
            "Name: DEP_DELAY, Length: 358, dtype: float64\n"
          ]
        }
      ],
      "source": [
        "origin_groups = df.groupby('ORIGIN')\n",
        "departure_means_Origin = origin_groups['DEP_DELAY'].mean()\n",
        "print(departure_means_Origin)"
      ]
    },
    {
      "cell_type": "code",
      "execution_count": 39,
      "metadata": {
        "colab": {
          "base_uri": "https://localhost:8080/"
        },
        "id": "YgY4o8S33PpS",
        "outputId": "e9700e64-d6da-4b45-e7e9-071822d87b1f"
      },
      "outputs": [
        {
          "output_type": "stream",
          "name": "stdout",
          "text": [
            "ORIGIN\n",
            "ABE     8.172159\n",
            "ABI     6.535354\n",
            "ABQ     3.650303\n",
            "ABR     4.835598\n",
            "ABY    15.087525\n",
            "         ...    \n",
            "WYS    -0.179916\n",
            "XNA     7.273438\n",
            "YAK    -7.207334\n",
            "YNG    75.000000\n",
            "YUM    -5.234738\n",
            "Name: ARR_DELAY, Length: 358, dtype: float64\n"
          ]
        }
      ],
      "source": [
        "arrival_means_origin = origin_groups['ARR_DELAY'].mean()\n",
        "print(arrival_means_origin)"
      ]
    },
    {
      "cell_type": "code",
      "source": [
        "df_airline_origin = pd.DataFrame({'airline': df['OP_CARRIER'], 'origin': df['ORIGIN']})"
      ],
      "metadata": {
        "id": "U3x1DMma4OuL"
      },
      "execution_count": 40,
      "outputs": []
    },
    {
      "cell_type": "code",
      "source": [
        "correlation_data =  airline_groups\n",
        "corr = correlation_data.corr()\n",
        "print(corr)"
      ],
      "metadata": {
        "colab": {
          "base_uri": "https://localhost:8080/"
        },
        "id": "J-cxAO3RIzRS",
        "outputId": "2aeb1b19-ca25-4605-f26e-c1f8549f95ba"
      },
      "execution_count": 41,
      "outputs": [
        {
          "output_type": "stream",
          "name": "stdout",
          "text": [
            "                                OP_CARRIER_FL_NUM  CRS_DEP_TIME  DEP_TIME  \\\n",
            "OP_CARRIER                                                                  \n",
            "9E         OP_CARRIER_FL_NUM             1.000000      0.002329  0.001350   \n",
            "           CRS_DEP_TIME                  0.002329      1.000000  0.970934   \n",
            "           DEP_TIME                      0.001350      0.970934  1.000000   \n",
            "           DEP_DELAY                     0.001431      0.094869  0.125769   \n",
            "           TAXI_OUT                      0.020562      0.057060  0.066699   \n",
            "...                                           ...           ...       ...   \n",
            "YX         WEATHER_DELAY                 0.005410     -0.006625 -0.021852   \n",
            "           NAS_DELAY                    -0.013278     -0.042551 -0.020120   \n",
            "           SECURITY_DELAY                0.007153     -0.016087 -0.011166   \n",
            "           LATE_AIRCRAFT_DELAY          -0.011683      0.143341  0.178895   \n",
            "           Unnamed: 27                        NaN           NaN       NaN   \n",
            "\n",
            "                                DEP_DELAY  TAXI_OUT  WHEELS_OFF  WHEELS_ON  \\\n",
            "OP_CARRIER                                                                   \n",
            "9E         OP_CARRIER_FL_NUM     0.001431  0.020562    0.001547   0.000451   \n",
            "           CRS_DEP_TIME          0.094869  0.057060    0.957530   0.869110   \n",
            "           DEP_TIME              0.125769  0.066699    0.983699   0.884374   \n",
            "           DEP_DELAY             1.000000  0.078463    0.112998   0.049424   \n",
            "           TAXI_OUT              0.078463  1.000000    0.100711   0.068275   \n",
            "...                                   ...       ...         ...        ...   \n",
            "YX         WEATHER_DELAY         0.297145  0.031628   -0.023737  -0.028069   \n",
            "           NAS_DELAY             0.243381  0.277342   -0.000906   0.050889   \n",
            "           SECURITY_DELAY        0.009924 -0.014007   -0.011519  -0.006511   \n",
            "           LATE_AIRCRAFT_DELAY   0.553957 -0.153741    0.140789  -0.021534   \n",
            "           Unnamed: 27                NaN       NaN         NaN        NaN   \n",
            "\n",
            "                                 TAXI_IN  CRS_ARR_TIME  ARR_TIME  ...  \\\n",
            "OP_CARRIER                                                        ...   \n",
            "9E         OP_CARRIER_FL_NUM    0.012557      0.005639  0.000150  ...   \n",
            "           CRS_DEP_TIME        -0.043107      0.968277  0.855019  ...   \n",
            "           DEP_TIME            -0.032895      0.943604  0.868886  ...   \n",
            "           DEP_DELAY            0.040172      0.098916  0.040234  ...   \n",
            "           TAXI_OUT            -0.027940      0.065350  0.062896  ...   \n",
            "...                                  ...           ...       ...  ...   \n",
            "YX         WEATHER_DELAY       -0.009453     -0.009825 -0.027062  ...   \n",
            "           NAS_DELAY            0.157386     -0.019378  0.052791  ...   \n",
            "           SECURITY_DELAY      -0.002658     -0.014958 -0.007091  ...   \n",
            "           LATE_AIRCRAFT_DELAY -0.063746      0.125407 -0.033413  ...   \n",
            "           Unnamed: 27               NaN           NaN       NaN  ...   \n",
            "\n",
            "                                CRS_ELAPSED_TIME  ACTUAL_ELAPSED_TIME  \\\n",
            "OP_CARRIER                                                              \n",
            "9E         OP_CARRIER_FL_NUM            0.017666             0.020576   \n",
            "           CRS_DEP_TIME                -0.009023            -0.013242   \n",
            "           DEP_TIME                    -0.001131            -0.000686   \n",
            "           DEP_DELAY                    0.032819             0.055516   \n",
            "           TAXI_OUT                     0.134684             0.378161   \n",
            "...                                          ...                  ...   \n",
            "YX         WEATHER_DELAY               -0.000395             0.006884   \n",
            "           NAS_DELAY                    0.014086             0.189747   \n",
            "           SECURITY_DELAY               0.000243            -0.006868   \n",
            "           LATE_AIRCRAFT_DELAY         -0.032656            -0.140119   \n",
            "           Unnamed: 27                       NaN                  NaN   \n",
            "\n",
            "                                AIR_TIME  DISTANCE  CARRIER_DELAY  \\\n",
            "OP_CARRIER                                                          \n",
            "9E         OP_CARRIER_FL_NUM    0.013101  0.013756      -0.014244   \n",
            "           CRS_DEP_TIME        -0.028675 -0.026487      -0.059308   \n",
            "           DEP_TIME            -0.019978 -0.019560      -0.073622   \n",
            "           DEP_DELAY            0.026052  0.020236       0.543652   \n",
            "           TAXI_OUT             0.055379  0.024977      -0.098185   \n",
            "...                                  ...       ...            ...   \n",
            "YX         WEATHER_DELAY       -0.004192  0.004224      -0.031205   \n",
            "           NAS_DELAY            0.052168  0.018708      -0.118153   \n",
            "           SECURITY_DELAY      -0.000823  0.002243      -0.007165   \n",
            "           LATE_AIRCRAFT_DELAY -0.071985 -0.042288      -0.049556   \n",
            "           Unnamed: 27               NaN       NaN            NaN   \n",
            "\n",
            "                                WEATHER_DELAY  NAS_DELAY  SECURITY_DELAY  \\\n",
            "OP_CARRIER                                                                 \n",
            "9E         OP_CARRIER_FL_NUM        -0.014297   0.023074       -0.003357   \n",
            "           CRS_DEP_TIME              0.020326   0.007474       -0.002512   \n",
            "           DEP_TIME                 -0.070709  -0.025166        0.001097   \n",
            "           DEP_DELAY                 0.414592   0.347382        0.004781   \n",
            "           TAXI_OUT                  0.004355   0.224784       -0.005810   \n",
            "...                                       ...        ...             ...   \n",
            "YX         WEATHER_DELAY             1.000000  -0.021215       -0.003216   \n",
            "           NAS_DELAY                -0.021215   1.000000       -0.011853   \n",
            "           SECURITY_DELAY           -0.003216  -0.011853        1.000000   \n",
            "           LATE_AIRCRAFT_DELAY       0.001091  -0.158128       -0.006743   \n",
            "           Unnamed: 27                    NaN        NaN             NaN   \n",
            "\n",
            "                                LATE_AIRCRAFT_DELAY  Unnamed: 27  \n",
            "OP_CARRIER                                                        \n",
            "9E         OP_CARRIER_FL_NUM               0.005744          NaN  \n",
            "           CRS_DEP_TIME                    0.104851          NaN  \n",
            "           DEP_TIME                        0.160441          NaN  \n",
            "           DEP_DELAY                       0.481650          NaN  \n",
            "           TAXI_OUT                       -0.123256          NaN  \n",
            "...                                             ...          ...  \n",
            "YX         WEATHER_DELAY                   0.001091          NaN  \n",
            "           NAS_DELAY                      -0.158128          NaN  \n",
            "           SECURITY_DELAY                 -0.006743          NaN  \n",
            "           LATE_AIRCRAFT_DELAY             1.000000          NaN  \n",
            "           Unnamed: 27                          NaN          NaN  \n",
            "\n",
            "[414 rows x 23 columns]\n"
          ]
        },
        {
          "output_type": "stream",
          "name": "stderr",
          "text": [
            "<ipython-input-41-c50b7de9adcf>:2: FutureWarning: The default value of numeric_only in DataFrameGroupBy.corr is deprecated. In a future version, numeric_only will default to False. Either specify numeric_only or select only columns which should be valid for the function.\n",
            "  corr = correlation_data.corr()\n"
          ]
        }
      ]
    },
    {
      "cell_type": "code",
      "source": [
        "# switching minutes to hours\n",
        "filtered_df['ARR_DELAY'] = filtered_df['ARR_DELAY'] / 60\n",
        "filtered_df['DEP_DELAY'] = filtered_df['DEP_DELAY'] / 60\n",
        "pd.to_datetime(filtered_df.FL_DATE)"
      ],
      "metadata": {
        "colab": {
          "base_uri": "https://localhost:8080/"
        },
        "id": "I7zqRqwL8kOv",
        "outputId": "ed73cda1-b74c-4af1-ed29-f5f9f0841d5f"
      },
      "execution_count": 42,
      "outputs": [
        {
          "output_type": "execute_result",
          "data": {
            "text/plain": [
              "0         2018-01-01\n",
              "1         2018-01-01\n",
              "2         2018-01-01\n",
              "3         2018-01-01\n",
              "4         2018-01-01\n",
              "             ...    \n",
              "7213441   2018-12-31\n",
              "7213442   2018-12-31\n",
              "7213443   2018-12-31\n",
              "7213444   2018-12-31\n",
              "7213445   2018-12-31\n",
              "Name: FL_DATE, Length: 7096862, dtype: datetime64[ns]"
            ]
          },
          "metadata": {},
          "execution_count": 42
        }
      ]
    },
    {
      "cell_type": "code",
      "source": [
        "# month variable\n",
        "filtered_df['FL_DATE_month'] = pd.to_datetime(filtered_df['FL_DATE']).dt.month"
      ],
      "metadata": {
        "id": "jEtVGHeo9NRt"
      },
      "execution_count": 43,
      "outputs": []
    },
    {
      "cell_type": "code",
      "source": [
        "# arrival and departure delays by month of the year\n",
        "plt.figure(figsize=(25, 12)).subplots_adjust(hspace = 0.5)\n",
        "plt.subplot(2, 2 ,1)\n",
        "filtered_df.groupby('FL_DATE_month').ARR_DELAY.sum().plot.bar().set_title('Arrival Delays by Month')\n",
        "plt.title('Arrival Delays By Month', fontsize=16)\n",
        "plt.ylabel('Hours', fontsize=14)\n",
        "plt.xlabel('Months', fontsize=14)\n",
        "plt.subplot(2, 2 ,2)\n",
        "filtered_df.groupby('FL_DATE_month').DEP_DELAY.sum().plot.bar()\n",
        "plt.title('Departure Delays by Month', fontsize=16)\n",
        "plt.ylabel('Hours', fontsize=14)\n",
        "plt.xlabel('Months', fontsize=14)\n",
        "plt.show()"
      ],
      "metadata": {
        "colab": {
          "base_uri": "https://localhost:8080/",
          "height": 307
        },
        "id": "9TgRGd_393eI",
        "outputId": "c46effa6-9b4c-47bf-c905-c64984af4373"
      },
      "execution_count": 44,
      "outputs": [
        {
          "output_type": "display_data",
          "data": {
            "text/plain": [
              "<Figure size 2500x1200 with 2 Axes>"
            ],
            "image/png": "[encoded data removed]"
          },
          "metadata": {}
        }
      ]
    }
  ],
  "metadata": {
    "colab": {
      "provenance": []
    },
    "kernelspec": {
      "display_name": "Python 3",
      "name": "python3"
    },
    "language_info": {
      "name": "python"
    }
  },
  "nbformat": 4,
  "nbformat_minor": 0
}