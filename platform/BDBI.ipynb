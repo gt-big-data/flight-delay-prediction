{
  "cells": [
    {
      "cell_type": "code",
      "execution_count": null,
      "metadata": {
        "id": "V3C6HI66TEEH"
      },
      "outputs": [],
      "source": [
        "import pandas as pd\n",
        "\n",
        "df = pd.read_csv('2018.csv')\n",
        "\n",
        "df.dropna(\n",
        "    axis = 0,\n",
        "    how='all',\n",
        "    thresh=None,\n",
        "    subset=None,\n",
        "    inplace=True\n",
        ")\n",
        "\n",
        "df = df.drop_duplicates()\n"
      ]
    },
    {
      "cell_type": "code",
      "source": [
        "# dropping all cancelled flights\n",
        "df = df[(df['CANCELLED'] == 0)]"
      ],
      "metadata": {
        "id": "av4ZJ7EMKmve"
      },
      "execution_count": null,
      "outputs": []
    },
    {
      "cell_type": "code",
      "execution_count": null,
      "metadata": {
        "colab": {
          "base_uri": "https://localhost:8080/"
        },
        "id": "Fo3SlahXmXe7",
        "outputId": "78699356-2ade-4cae-92db-723a8b5beaac"
      },
      "outputs": [
        {
          "output_type": "execute_result",
          "data": {
            "text/plain": [
              "array(['UA', 'AS', '9E', 'B6', 'EV', 'F9', 'G4', 'HA', 'MQ', 'NK', 'OH',\n",
              "       'OO', 'VX', 'WN', 'YV', 'YX', 'AA', 'DL'], dtype=object)"
            ]
          },
          "metadata": {},
          "execution_count": 4
        }
      ],
      "source": [
        "# getting unique airlines\n",
        "df.OP_CARRIER.unique()"
      ]
    },
    {
      "cell_type": "code",
      "execution_count": null,
      "metadata": {
        "id": "-tX9WwaWpYYO"
      },
      "outputs": [],
      "source": [
        "# group by airline\n",
        "airline_groups = df.groupby('OP_CARRIER')"
      ]
    },
    {
      "cell_type": "code",
      "execution_count": null,
      "metadata": {
        "colab": {
          "base_uri": "https://localhost:8080/"
        },
        "id": "oLQ5viDyrLyY",
        "outputId": "e2ab4743-1f5f-43dd-d698-f6b2fa536335"
      },
      "outputs": [
        {
          "output_type": "stream",
          "name": "stdout",
          "text": [
            "0         -0.333839\n",
            "1         -0.400870\n",
            "2         -0.333839\n",
            "3         -0.088060\n",
            "4          0.224750\n",
            "             ...   \n",
            "7213441   -0.311496\n",
            "7213442   -0.088060\n",
            "7213443   -0.333839\n",
            "7213444    0.291780\n",
            "7213445   -0.043373\n",
            "Name: DEP_DELAY, Length: 7096862, dtype: float64\n"
          ]
        }
      ],
      "source": [
        "# calculates departure delay means for each airline\n",
        "departure_means = airline_groups['DEP_DELAY'].mean()\n",
        "normalized_departure = (df['DEP_DELAY'] - df['DEP_DELAY'].mean()) / df['DEP_DELAY'].std()\n",
        "print(normalized_departure)"
      ]
    },
    {
      "cell_type": "code",
      "execution_count": null,
      "metadata": {
        "colab": {
          "base_uri": "https://localhost:8080/"
        },
        "id": "BZ0HdxIArb8L",
        "outputId": "5ab4f991-b467-43a5-b864-a7a4b07654a6"
      },
      "outputs": [
        {
          "output_type": "stream",
          "name": "stdout",
          "text": [
            "0         -0.597711\n",
            "1         -0.619021\n",
            "2         -0.384613\n",
            "3         -0.150204\n",
            "4          0.190753\n",
            "             ...   \n",
            "7213441   -0.214134\n",
            "7213442   -0.086275\n",
            "7213443    0.126824\n",
            "7213444    0.190753\n",
            "7213445   -0.192824\n",
            "Name: ARR_DELAY, Length: 7096862, dtype: float64\n"
          ]
        }
      ],
      "source": [
        "# calculates arrival delay means for each airline\n",
        "arrival_means = airline_groups['ARR_DELAY'].mean()\n",
        "normalized_arrival = (df['ARR_DELAY'] - df['ARR_DELAY'].mean()) / df['ARR_DELAY'].std()\n",
        "print(normalized_arrival)"
      ]
    },
    {
      "cell_type": "code",
      "execution_count": null,
      "metadata": {
        "id": "FLICMNtEvPAm"
      },
      "outputs": [],
      "source": [
        "df.ORIGIN.unique()"
      ]
    },
    {
      "cell_type": "code",
      "execution_count": null,
      "metadata": {
        "colab": {
          "base_uri": "https://localhost:8080/"
        },
        "id": "iLWZzYrgyIAP",
        "outputId": "c921c72d-87da-40d4-a1ed-267ab58eb4a3"
      },
      "outputs": [
        {
          "name": "stdout",
          "output_type": "stream",
          "text": [
            "ORIGIN\n",
            "ABE    38.666667\n",
            "ABI    47.933333\n",
            "ABQ     7.834808\n",
            "ABR    59.700000\n",
            "ABY    -3.600000\n",
            "         ...    \n",
            "WRG     8.375000\n",
            "XNA    21.978571\n",
            "YAK   -20.875000\n",
            "YNG    63.000000\n",
            "YUM    -0.900000\n",
            "Name: DEP_DELAY, Length: 332, dtype: float64\n"
          ]
        }
      ],
      "source": [
        "origin_groups = df.groupby('ORIGIN')\n",
        "departure_means_Origin = origin_groups['DEP_DELAY'].mean()\n",
        "print(departure_means_Origin)"
      ]
    },
    {
      "cell_type": "code",
      "execution_count": null,
      "metadata": {
        "colab": {
          "background_save": true
        },
        "id": "YgY4o8S33PpS",
        "outputId": "8493ebcb-6749-40af-ffa3-27ea26b7fcd1"
      },
      "outputs": [
        {
          "name": "stdout",
          "output_type": "stream",
          "text": [
            "ORIGIN\n",
            "ABE    32.923077\n",
            "ABI    52.533333\n",
            "ABQ    -0.424779\n",
            "ABR    59.200000\n",
            "ABY    -5.600000\n",
            "         ...    \n",
            "WRG    10.875000\n",
            "XNA    16.657143\n",
            "YAK   -20.875000\n",
            "YNG    75.000000\n",
            "YUM    -6.350000\n",
            "Name: ARR_DELAY, Length: 332, dtype: float64\n"
          ]
        }
      ],
      "source": [
        "arrival_means_origin = origin_groups['ARR_DELAY'].mean()\n",
        "print(arrival_means_origin)"
      ]
    },
    {
      "cell_type": "code",
      "source": [
        "df_airline_origin = pd.DataFrame({'airline': df['OP_CARRIER'], 'origin': df['ORIGIN']})"
      ],
      "metadata": {
        "id": "U3x1DMma4OuL"
      },
      "execution_count": null,
      "outputs": []
    },
    {
      "cell_type": "code",
      "source": [
        "correlation_data =  airline_groups\n",
        "corr = correlation_data.corr()\n",
        "print(corr)"
      ],
      "metadata": {
        "colab": {
          "base_uri": "https://localhost:8080/"
        },
        "id": "J-cxAO3RIzRS",
        "outputId": "54dc14ae-aa18-45a2-f51c-7d2b2838be30"
      },
      "execution_count": null,
      "outputs": [
        {
          "output_type": "stream",
          "name": "stdout",
          "text": [
            "                                OP_CARRIER_FL_NUM  CRS_DEP_TIME  DEP_TIME  \\\n",
            "OP_CARRIER                                                                  \n",
            "9E         OP_CARRIER_FL_NUM             1.000000      0.075485  0.075824   \n",
            "           CRS_DEP_TIME                  0.075485      1.000000  0.962285   \n",
            "           DEP_TIME                      0.075824      0.962285  1.000000   \n",
            "           DEP_DELAY                    -0.000200     -0.022304  0.109403   \n",
            "           TAXI_OUT                      0.099056     -0.011426  0.010781   \n",
            "...                                           ...           ...       ...   \n",
            "YX         WEATHER_DELAY                 0.019310     -0.098911 -0.001978   \n",
            "           NAS_DELAY                    -0.028457     -0.068179 -0.011017   \n",
            "           SECURITY_DELAY                0.055743     -0.031045 -0.028819   \n",
            "           LATE_AIRCRAFT_DELAY          -0.083305      0.201525  0.250023   \n",
            "           Unnamed: 27                        NaN           NaN       NaN   \n",
            "\n",
            "                                DEP_DELAY  TAXI_OUT  WHEELS_OFF  WHEELS_ON  \\\n",
            "OP_CARRIER                                                                   \n",
            "9E         OP_CARRIER_FL_NUM    -0.000200  0.099056    0.075247   0.063764   \n",
            "           CRS_DEP_TIME         -0.022304 -0.011426    0.948076   0.852815   \n",
            "           DEP_TIME              0.109403  0.010781    0.982346   0.872965   \n",
            "           DEP_DELAY             1.000000  0.093106    0.093537   0.025462   \n",
            "           TAXI_OUT              0.093106  1.000000    0.044333  -0.009092   \n",
            "...                                   ...       ...         ...        ...   \n",
            "YX         WEATHER_DELAY         0.314617  0.077929   -0.002479   0.017903   \n",
            "           NAS_DELAY             0.127225  0.303129    0.012014   0.088461   \n",
            "           SECURITY_DELAY       -0.007014  0.058774   -0.025040  -0.034003   \n",
            "           LATE_AIRCRAFT_DELAY   0.479414 -0.193018    0.200427   0.035993   \n",
            "           Unnamed: 27                NaN       NaN         NaN        NaN   \n",
            "\n",
            "                                 TAXI_IN  CRS_ARR_TIME  ARR_TIME  ...  \\\n",
            "OP_CARRIER                                                        ...   \n",
            "9E         OP_CARRIER_FL_NUM    0.015112      0.087413  0.061269  ...   \n",
            "           CRS_DEP_TIME        -0.046050      0.981976  0.827736  ...   \n",
            "           DEP_TIME             0.003025      0.944097  0.847072  ...   \n",
            "           DEP_DELAY            0.221094     -0.024102  0.021136  ...   \n",
            "           TAXI_OUT             0.049376     -0.013288 -0.018675  ...   \n",
            "...                                  ...           ...       ...  ...   \n",
            "YX         WEATHER_DELAY        0.009854     -0.086368  0.025884  ...   \n",
            "           NAS_DELAY            0.222249     -0.030137  0.087090  ...   \n",
            "           SECURITY_DELAY       0.101558     -0.051257 -0.026830  ...   \n",
            "           LATE_AIRCRAFT_DELAY -0.031357      0.187698  0.025807  ...   \n",
            "           Unnamed: 27               NaN           NaN       NaN  ...   \n",
            "\n",
            "                                CRS_ELAPSED_TIME  ACTUAL_ELAPSED_TIME  \\\n",
            "OP_CARRIER                                                              \n",
            "9E         OP_CARRIER_FL_NUM            0.133800             0.098791   \n",
            "           CRS_DEP_TIME                -0.013617            -0.024118   \n",
            "           DEP_TIME                     0.002093            -0.002411   \n",
            "           DEP_DELAY                    0.001499             0.079739   \n",
            "           TAXI_OUT                     0.047778             0.365769   \n",
            "...                                          ...                  ...   \n",
            "YX         WEATHER_DELAY                0.019619             0.027190   \n",
            "           NAS_DELAY                    0.085778             0.254828   \n",
            "           SECURITY_DELAY               0.109903             0.133540   \n",
            "           LATE_AIRCRAFT_DELAY         -0.092051            -0.188125   \n",
            "           Unnamed: 27                       NaN                  NaN   \n",
            "\n",
            "                                AIR_TIME  DISTANCE  CARRIER_DELAY  \\\n",
            "OP_CARRIER                                                          \n",
            "9E         OP_CARRIER_FL_NUM    0.066584  0.041545      -0.010554   \n",
            "           CRS_DEP_TIME        -0.009649 -0.028108      -0.051331   \n",
            "           DEP_TIME            -0.007981 -0.017205      -0.035168   \n",
            "           DEP_DELAY           -0.011225 -0.022699       0.466673   \n",
            "           TAXI_OUT            -0.010541 -0.026651      -0.103341   \n",
            "...                                  ...       ...            ...   \n",
            "YX         WEATHER_DELAY       -0.002381  0.007276      -0.064695   \n",
            "           NAS_DELAY            0.112665  0.115766      -0.117525   \n",
            "           SECURITY_DELAY       0.100571  0.071467      -0.007520   \n",
            "           LATE_AIRCRAFT_DELAY -0.123957 -0.103209      -0.102038   \n",
            "           Unnamed: 27               NaN       NaN            NaN   \n",
            "\n",
            "                                WEATHER_DELAY  NAS_DELAY  SECURITY_DELAY  \\\n",
            "OP_CARRIER                                                                 \n",
            "9E         OP_CARRIER_FL_NUM         0.000199   0.105454             NaN   \n",
            "           CRS_DEP_TIME             -0.261834  -0.072257             NaN   \n",
            "           DEP_TIME                 -0.041425  -0.038495             NaN   \n",
            "           DEP_DELAY                 0.535415   0.380848             NaN   \n",
            "           TAXI_OUT                  0.002607   0.276070             NaN   \n",
            "...                                       ...        ...             ...   \n",
            "YX         WEATHER_DELAY             1.000000  -0.011631       -0.009153   \n",
            "           NAS_DELAY                -0.011631   1.000000        0.032792   \n",
            "           SECURITY_DELAY           -0.009153   0.032792        1.000000   \n",
            "           LATE_AIRCRAFT_DELAY      -0.044725  -0.169947       -0.020935   \n",
            "           Unnamed: 27                    NaN        NaN             NaN   \n",
            "\n",
            "                                LATE_AIRCRAFT_DELAY  Unnamed: 27  \n",
            "OP_CARRIER                                                        \n",
            "9E         OP_CARRIER_FL_NUM              -0.006582          NaN  \n",
            "           CRS_DEP_TIME                    0.224223          NaN  \n",
            "           DEP_TIME                        0.221411          NaN  \n",
            "           DEP_DELAY                       0.328843          NaN  \n",
            "           TAXI_OUT                       -0.128183          NaN  \n",
            "...                                             ...          ...  \n",
            "YX         WEATHER_DELAY                  -0.044725          NaN  \n",
            "           NAS_DELAY                      -0.169947          NaN  \n",
            "           SECURITY_DELAY                 -0.020935          NaN  \n",
            "           LATE_AIRCRAFT_DELAY             1.000000          NaN  \n",
            "           Unnamed: 27                          NaN          NaN  \n",
            "\n",
            "[414 rows x 23 columns]\n"
          ]
        }
      ]
    }
  ],
  "metadata": {
    "colab": {
      "provenance": []
    },
    "kernelspec": {
      "display_name": "Python 3",
      "name": "python3"
    },
    "language_info": {
      "name": "python"
    }
  },
  "nbformat": 4,
  "nbformat_minor": 0
}